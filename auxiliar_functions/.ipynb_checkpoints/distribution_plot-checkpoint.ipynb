{
 "cells": [
  {
   "cell_type": "code",
   "execution_count": null,
   "id": "0d39745a-80ca-4601-bed2-d475f039a616",
   "metadata": {},
   "outputs": [],
   "source": [
    "def distribution_plot(df):\n",
    "    quantitatives = df.select_dtypes(exclude='object').columns\n",
    "    numeric_vars = []\n",
    "    for x in quantitatives:\n",
    "        if df[x].nunique() > 6:\n",
    "            numeric_vars.append(x)\n",
    "            \n",
    "    nrows = int(len(numeric_vars)/ 3) + 1\n",
    "\n",
    "    fig, axes = plt.subplots(nrows=nrows, ncols=3, figsize=(15, 6))\n",
    "    axes = axes.flat\n",
    "\n",
    "\n",
    "    for i, var in enumerate(numeric_vars):\n",
    "        sns.histplot(\n",
    "            data    = df,\n",
    "            x       = var,\n",
    "            stat    = \"count\",\n",
    "            kde     = True,\n",
    "            color   = (list(plt.rcParams['axes.prop_cycle'])*2)[i][\"color\"],\n",
    "            line_kws= {'linewidth': 2},\n",
    "            alpha   = 0.3,\n",
    "            ax      = axes[i]\n",
    "        )\n",
    "        axes[i].set_title(var, fontsize = 12, fontweight = \"bold\")\n",
    "        axes[i].tick_params(labelsize = 9)\n",
    "        axes[i].set_xlabel(\"\")\n",
    "    \n",
    "    \n",
    "    fig.tight_layout()\n",
    "    plt.subplots_adjust(top = 0.9)\n",
    "    fig.suptitle('Distribución variables numéricas', fontsize = 15, fontweight = \"bold\");"
   ]
  }
 ],
 "metadata": {
  "kernelspec": {
   "display_name": "Python 3 (ipykernel)",
   "language": "python",
   "name": "python3"
  },
  "language_info": {
   "codemirror_mode": {
    "name": "ipython",
    "version": 3
   },
   "file_extension": ".py",
   "mimetype": "text/x-python",
   "name": "python",
   "nbconvert_exporter": "python",
   "pygments_lexer": "ipython3",
   "version": "3.8.8"
  }
 },
 "nbformat": 4,
 "nbformat_minor": 5
}
