{
 "cells": [
  {
   "cell_type": "code",
   "execution_count": null,
   "metadata": {},
   "outputs": [],
   "source": [
    "def varNorm(df):\n",
    "    \"\"\"Normaliza el nombre de las variables y valores categóricos\"\"\"\n",
    "\n",
    "    # Columns\n",
    "    df.columns = df.columns.str.lower().str.replace(\" \",\"_\").str.replace(\"-\",\"_\")\n",
    "\n",
    "    # Values\n",
    "    cat_vars = df.select_dtypes(include=\"object\")\n",
    "    for col in cat_vars:\n",
    "        df[col] = df[col].str.lower().str.replace(\" \",\"_\")\n",
    "    \n",
    "    return df"
   ]
  }
 ],
 "metadata": {
  "language_info": {
   "name": "python"
  },
  "orig_nbformat": 4
 },
 "nbformat": 4,
 "nbformat_minor": 2
}
