{
 "cells": [
  {
   "cell_type": "code",
   "metadata": {
    "cell_id": "b99d964e-7a30-495d-8eb9-21922abc9ab3",
    "deepnote_to_be_reexecuted": false,
    "source_hash": "f1e8e3b0",
    "execution_start": 1657833477764,
    "execution_millis": 1855,
    "deepnote_cell_type": "code",
    "deepnote_cell_height": 495
   },
   "source": "import pandas as pd\nimport numpy as np\nimport matplotlib.pyplot as plt\nimport seaborn as sns\n\nfrom sklearn.preprocessing import Normalizer\nfrom sklearn.preprocessing import OneHotEncoder, OrdinalEncoder\nfrom sklearn.preprocessing import LabelEncoder\n\nfrom sklearn.compose import ColumnTransformer\nfrom sklearn.pipeline import Pipeline\nfrom sklearn.linear_model import LogisticRegression\nfrom sklearn.ensemble import RandomForestClassifier\nfrom sklearn.svm import SVC\nfrom sklearn.neighbors import KNeighborsClassifier\n\nfrom sklearn.model_selection import cross_val_predict\nfrom sklearn.metrics import confusion_matrix\nfrom sklearn.metrics import precision_score, accuracy_score, recall_score, f1_score\nfrom sklearn.metrics import classification_report \nfrom sklearn.metrics import roc_curve, plot_roc_curve, roc_auc_score\n\nimport warnings\nwarnings.filterwarnings(\"ignore\")",
   "execution_count": 1,
   "outputs": []
  },
  {
   "cell_type": "code",
   "metadata": {
    "cell_id": "00001-785b3d3b-6a06-4f48-9517-74b1f4b933e9",
    "deepnote_to_be_reexecuted": false,
    "source_hash": "7e993c26",
    "execution_start": 1657833479626,
    "execution_millis": 405,
    "deepnote_cell_type": "code",
    "deepnote_cell_height": 431
   },
   "source": "# Importing training set\ntrain_df = pd.read_csv('datasets/train.csv')\ntrain_df.head()",
   "execution_count": 2,
   "outputs": [
    {
     "output_type": "execute_result",
     "execution_count": 2,
     "data": {
      "application/vnd.deepnote.dataframe.v3+json": {
       "column_count": 25,
       "row_count": 5,
       "columns": [
        {
         "name": "Unnamed: 0",
         "dtype": "int64",
         "stats": {
          "unique_count": 5,
          "nan_count": 0,
          "min": "0",
          "max": "4",
          "histogram": [
           {
            "bin_start": 0,
            "bin_end": 0.4,
            "count": 1
           },
           {
            "bin_start": 0.4,
            "bin_end": 0.8,
            "count": 0
           },
           {
            "bin_start": 0.8,
            "bin_end": 1.2000000000000002,
            "count": 1
           },
           {
            "bin_start": 1.2000000000000002,
            "bin_end": 1.6,
            "count": 0
           },
           {
            "bin_start": 1.6,
            "bin_end": 2,
            "count": 0
           },
           {
            "bin_start": 2,
            "bin_end": 2.4000000000000004,
            "count": 1
           },
           {
            "bin_start": 2.4000000000000004,
            "bin_end": 2.8000000000000003,
            "count": 0
           },
           {
            "bin_start": 2.8000000000000003,
            "bin_end": 3.2,
            "count": 1
           },
           {
            "bin_start": 3.2,
            "bin_end": 3.6,
            "count": 0
           },
           {
            "bin_start": 3.6,
            "bin_end": 4,
            "count": 1
           }
          ]
         }
        },
        {
         "name": "id",
         "dtype": "int64",
         "stats": {
          "unique_count": 5,
          "nan_count": 0,
          "min": "5047",
          "max": "119299",
          "histogram": [
           {
            "bin_start": 5047,
            "bin_end": 16472.2,
            "count": 1
           },
           {
            "bin_start": 16472.2,
            "bin_end": 27897.4,
            "count": 1
           },
           {
            "bin_start": 27897.4,
            "bin_end": 39322.600000000006,
            "count": 0
           },
           {
            "bin_start": 39322.600000000006,
            "bin_end": 50747.8,
            "count": 0
           },
           {
            "bin_start": 50747.8,
            "bin_end": 62173,
            "count": 0
           },
           {
            "bin_start": 62173,
            "bin_end": 73598.20000000001,
            "count": 1
           },
           {
            "bin_start": 73598.20000000001,
            "bin_end": 85023.40000000001,
            "count": 0
           },
           {
            "bin_start": 85023.40000000001,
            "bin_end": 96448.6,
            "count": 0
           },
           {
            "bin_start": 96448.6,
            "bin_end": 107873.8,
            "count": 0
           },
           {
            "bin_start": 107873.8,
            "bin_end": 119299,
            "count": 2
           }
          ]
         }
        },
        {
         "name": "Gender",
         "dtype": "object",
         "stats": {
          "unique_count": 2,
          "nan_count": 0,
          "categories": [
           {
            "name": "Male",
            "count": 3
           },
           {
            "name": "Female",
            "count": 2
           }
          ]
         }
        },
        {
         "name": "Customer Type",
         "dtype": "object",
         "stats": {
          "unique_count": 2,
          "nan_count": 0,
          "categories": [
           {
            "name": "Loyal Customer",
            "count": 4
           },
           {
            "name": "disloyal Customer",
            "count": 1
           }
          ]
         }
        },
        {
         "name": "Age",
         "dtype": "int64",
         "stats": {
          "unique_count": 4,
          "nan_count": 0,
          "min": "13",
          "max": "61",
          "histogram": [
           {
            "bin_start": 13,
            "bin_end": 17.8,
            "count": 1
           },
           {
            "bin_start": 17.8,
            "bin_end": 22.6,
            "count": 0
           },
           {
            "bin_start": 22.6,
            "bin_end": 27.4,
            "count": 3
           },
           {
            "bin_start": 27.4,
            "bin_end": 32.2,
            "count": 0
           },
           {
            "bin_start": 32.2,
            "bin_end": 37,
            "count": 0
           },
           {
            "bin_start": 37,
            "bin_end": 41.8,
            "count": 0
           },
           {
            "bin_start": 41.8,
            "bin_end": 46.6,
            "count": 0
           },
           {
            "bin_start": 46.6,
            "bin_end": 51.4,
            "count": 0
           },
           {
            "bin_start": 51.4,
            "bin_end": 56.199999999999996,
            "count": 0
           },
           {
            "bin_start": 56.199999999999996,
            "bin_end": 61,
            "count": 1
           }
          ]
         }
        },
        {
         "name": "Type of Travel",
         "dtype": "object",
         "stats": {
          "unique_count": 2,
          "nan_count": 0,
          "categories": [
           {
            "name": "Business travel",
            "count": 4
           },
           {
            "name": "Personal Travel",
            "count": 1
           }
          ]
         }
        },
        {
         "name": "Class",
         "dtype": "object",
         "stats": {
          "unique_count": 2,
          "nan_count": 0,
          "categories": [
           {
            "name": "Business",
            "count": 4
           },
           {
            "name": "Eco Plus",
            "count": 1
           }
          ]
         }
        },
        {
         "name": "Flight Distance",
         "dtype": "int64",
         "stats": {
          "unique_count": 5,
          "nan_count": 0,
          "min": "214",
          "max": "1142",
          "histogram": [
           {
            "bin_start": 214,
            "bin_end": 306.8,
            "count": 2
           },
           {
            "bin_start": 306.8,
            "bin_end": 399.6,
            "count": 0
           },
           {
            "bin_start": 399.6,
            "bin_end": 492.4,
            "count": 1
           },
           {
            "bin_start": 492.4,
            "bin_end": 585.2,
            "count": 1
           },
           {
            "bin_start": 585.2,
            "bin_end": 678,
            "count": 0
           },
           {
            "bin_start": 678,
            "bin_end": 770.8,
            "count": 0
           },
           {
            "bin_start": 770.8,
            "bin_end": 863.6,
            "count": 0
           },
           {
            "bin_start": 863.6,
            "bin_end": 956.4,
            "count": 0
           },
           {
            "bin_start": 956.4,
            "bin_end": 1049.1999999999998,
            "count": 0
           },
           {
            "bin_start": 1049.1999999999998,
            "bin_end": 1142,
            "count": 1
           }
          ]
         }
        },
        {
         "name": "Inflight wifi service",
         "dtype": "int64",
         "stats": {
          "unique_count": 2,
          "nan_count": 0,
          "min": "2",
          "max": "3",
          "histogram": [
           {
            "bin_start": 2,
            "bin_end": 2.1,
            "count": 2
           },
           {
            "bin_start": 2.1,
            "bin_end": 2.2,
            "count": 0
           },
           {
            "bin_start": 2.2,
            "bin_end": 2.3,
            "count": 0
           },
           {
            "bin_start": 2.3,
            "bin_end": 2.4,
            "count": 0
           },
           {
            "bin_start": 2.4,
            "bin_end": 2.5,
            "count": 0
           },
           {
            "bin_start": 2.5,
            "bin_end": 2.6,
            "count": 0
           },
           {
            "bin_start": 2.6,
            "bin_end": 2.7,
            "count": 0
           },
           {
            "bin_start": 2.7,
            "bin_end": 2.8,
            "count": 0
           },
           {
            "bin_start": 2.8,
            "bin_end": 2.9,
            "count": 0
           },
           {
            "bin_start": 2.9,
            "bin_end": 3,
            "count": 3
           }
          ]
         }
        },
        {
         "name": "Departure/Arrival time convenient",
         "dtype": "int64",
         "stats": {
          "unique_count": 4,
          "nan_count": 0,
          "min": "2",
          "max": "5",
          "histogram": [
           {
            "bin_start": 2,
            "bin_end": 2.3,
            "count": 2
           },
           {
            "bin_start": 2.3,
            "bin_end": 2.6,
            "count": 0
           },
           {
            "bin_start": 2.6,
            "bin_end": 2.9,
            "count": 0
           },
           {
            "bin_start": 2.9,
            "bin_end": 3.2,
            "count": 1
           },
           {
            "bin_start": 3.2,
            "bin_end": 3.5,
            "count": 0
           },
           {
            "bin_start": 3.5,
            "bin_end": 3.8,
            "count": 0
           },
           {
            "bin_start": 3.8,
            "bin_end": 4.1,
            "count": 1
           },
           {
            "bin_start": 4.1,
            "bin_end": 4.4,
            "count": 0
           },
           {
            "bin_start": 4.4,
            "bin_end": 4.699999999999999,
            "count": 0
           },
           {
            "bin_start": 4.699999999999999,
            "bin_end": 5,
            "count": 1
           }
          ]
         }
        },
        {
         "name": "Ease of Online booking",
         "dtype": "int64",
         "stats": {
          "unique_count": 3,
          "nan_count": 0,
          "min": "2",
          "max": "5",
          "histogram": [
           {
            "bin_start": 2,
            "bin_end": 2.3,
            "count": 1
           },
           {
            "bin_start": 2.3,
            "bin_end": 2.6,
            "count": 0
           },
           {
            "bin_start": 2.6,
            "bin_end": 2.9,
            "count": 0
           },
           {
            "bin_start": 2.9,
            "bin_end": 3.2,
            "count": 3
           },
           {
            "bin_start": 3.2,
            "bin_end": 3.5,
            "count": 0
           },
           {
            "bin_start": 3.5,
            "bin_end": 3.8,
            "count": 0
           },
           {
            "bin_start": 3.8,
            "bin_end": 4.1,
            "count": 0
           },
           {
            "bin_start": 4.1,
            "bin_end": 4.4,
            "count": 0
           },
           {
            "bin_start": 4.4,
            "bin_end": 4.699999999999999,
            "count": 0
           },
           {
            "bin_start": 4.699999999999999,
            "bin_end": 5,
            "count": 1
           }
          ]
         }
        },
        {
         "name": "Gate location",
         "dtype": "int64",
         "stats": {
          "unique_count": 4,
          "nan_count": 0,
          "min": "1",
          "max": "5",
          "histogram": [
           {
            "bin_start": 1,
            "bin_end": 1.4,
            "count": 1
           },
           {
            "bin_start": 1.4,
            "bin_end": 1.8,
            "count": 0
           },
           {
            "bin_start": 1.8,
            "bin_end": 2.2,
            "count": 1
           },
           {
            "bin_start": 2.2,
            "bin_end": 2.6,
            "count": 0
           },
           {
            "bin_start": 2.6,
            "bin_end": 3,
            "count": 0
           },
           {
            "bin_start": 3,
            "bin_end": 3.4000000000000004,
            "count": 2
           },
           {
            "bin_start": 3.4000000000000004,
            "bin_end": 3.8000000000000003,
            "count": 0
           },
           {
            "bin_start": 3.8000000000000003,
            "bin_end": 4.2,
            "count": 0
           },
           {
            "bin_start": 4.2,
            "bin_end": 4.6,
            "count": 0
           },
           {
            "bin_start": 4.6,
            "bin_end": 5,
            "count": 1
           }
          ]
         }
        },
        {
         "name": "Food and drink",
         "dtype": "int64",
         "stats": {
          "unique_count": 4,
          "nan_count": 0,
          "min": "1",
          "max": "5",
          "histogram": [
           {
            "bin_start": 1,
            "bin_end": 1.4,
            "count": 1
           },
           {
            "bin_start": 1.4,
            "bin_end": 1.8,
            "count": 0
           },
           {
            "bin_start": 1.8,
            "bin_end": 2.2,
            "count": 1
           },
           {
            "bin_start": 2.2,
            "bin_end": 2.6,
            "count": 0
           },
           {
            "bin_start": 2.6,
            "bin_end": 3,
            "count": 0
           },
           {
            "bin_start": 3,
            "bin_end": 3.4000000000000004,
            "count": 0
           },
           {
            "bin_start": 3.4000000000000004,
            "bin_end": 3.8000000000000003,
            "count": 0
           },
           {
            "bin_start": 3.8000000000000003,
            "bin_end": 4.2,
            "count": 1
           },
           {
            "bin_start": 4.2,
            "bin_end": 4.6,
            "count": 0
           },
           {
            "bin_start": 4.6,
            "bin_end": 5,
            "count": 2
           }
          ]
         }
        },
        {
         "name": "Online boarding",
         "dtype": "int64",
         "stats": {
          "unique_count": 3,
          "nan_count": 0,
          "min": "2",
          "max": "5",
          "histogram": [
           {
            "bin_start": 2,
            "bin_end": 2.3,
            "count": 1
           },
           {
            "bin_start": 2.3,
            "bin_end": 2.6,
            "count": 0
           },
           {
            "bin_start": 2.6,
            "bin_end": 2.9,
            "count": 0
           },
           {
            "bin_start": 2.9,
            "bin_end": 3.2,
            "count": 2
           },
           {
            "bin_start": 3.2,
            "bin_end": 3.5,
            "count": 0
           },
           {
            "bin_start": 3.5,
            "bin_end": 3.8,
            "count": 0
           },
           {
            "bin_start": 3.8,
            "bin_end": 4.1,
            "count": 0
           },
           {
            "bin_start": 4.1,
            "bin_end": 4.4,
            "count": 0
           },
           {
            "bin_start": 4.4,
            "bin_end": 4.699999999999999,
            "count": 0
           },
           {
            "bin_start": 4.699999999999999,
            "bin_end": 5,
            "count": 2
           }
          ]
         }
        },
        {
         "name": "Seat comfort",
         "dtype": "int64",
         "stats": {
          "unique_count": 3,
          "nan_count": 0,
          "min": "1",
          "max": "5",
          "histogram": [
           {
            "bin_start": 1,
            "bin_end": 1.4,
            "count": 1
           },
           {
            "bin_start": 1.4,
            "bin_end": 1.8,
            "count": 0
           },
           {
            "bin_start": 1.8,
            "bin_end": 2.2,
            "count": 1
           },
           {
            "bin_start": 2.2,
            "bin_end": 2.6,
            "count": 0
           },
           {
            "bin_start": 2.6,
            "bin_end": 3,
            "count": 0
           },
           {
            "bin_start": 3,
            "bin_end": 3.4000000000000004,
            "count": 0
           },
           {
            "bin_start": 3.4000000000000004,
            "bin_end": 3.8000000000000003,
            "count": 0
           },
           {
            "bin_start": 3.8000000000000003,
            "bin_end": 4.2,
            "count": 0
           },
           {
            "bin_start": 4.2,
            "bin_end": 4.6,
            "count": 0
           },
           {
            "bin_start": 4.6,
            "bin_end": 5,
            "count": 3
           }
          ]
         }
        },
        {
         "name": "Inflight entertainment",
         "dtype": "int64",
         "stats": {
          "unique_count": 4,
          "nan_count": 0,
          "min": "1",
          "max": "5",
          "histogram": [
           {
            "bin_start": 1,
            "bin_end": 1.4,
            "count": 1
           },
           {
            "bin_start": 1.4,
            "bin_end": 1.8,
            "count": 0
           },
           {
            "bin_start": 1.8,
            "bin_end": 2.2,
            "count": 1
           },
           {
            "bin_start": 2.2,
            "bin_end": 2.6,
            "count": 0
           },
           {
            "bin_start": 2.6,
            "bin_end": 3,
            "count": 0
           },
           {
            "bin_start": 3,
            "bin_end": 3.4000000000000004,
            "count": 1
           },
           {
            "bin_start": 3.4000000000000004,
            "bin_end": 3.8000000000000003,
            "count": 0
           },
           {
            "bin_start": 3.8000000000000003,
            "bin_end": 4.2,
            "count": 0
           },
           {
            "bin_start": 4.2,
            "bin_end": 4.6,
            "count": 0
           },
           {
            "bin_start": 4.6,
            "bin_end": 5,
            "count": 2
           }
          ]
         }
        },
        {
         "name": "On-board service",
         "dtype": "int64",
         "stats": {
          "unique_count": 4,
          "nan_count": 0,
          "min": "1",
          "max": "4",
          "histogram": [
           {
            "bin_start": 1,
            "bin_end": 1.3,
            "count": 1
           },
           {
            "bin_start": 1.3,
            "bin_end": 1.6,
            "count": 0
           },
           {
            "bin_start": 1.6,
            "bin_end": 1.9,
            "count": 0
           },
           {
            "bin_start": 1.9,
            "bin_end": 2.2,
            "count": 1
           },
           {
            "bin_start": 2.2,
            "bin_end": 2.5,
            "count": 0
           },
           {
            "bin_start": 2.5,
            "bin_end": 2.8,
            "count": 0
           },
           {
            "bin_start": 2.8,
            "bin_end": 3.1,
            "count": 1
           },
           {
            "bin_start": 3.1,
            "bin_end": 3.4,
            "count": 0
           },
           {
            "bin_start": 3.4,
            "bin_end": 3.6999999999999997,
            "count": 0
           },
           {
            "bin_start": 3.6999999999999997,
            "bin_end": 4,
            "count": 2
           }
          ]
         }
        },
        {
         "name": "Leg room service",
         "dtype": "int64",
         "stats": {
          "unique_count": 3,
          "nan_count": 0,
          "min": "3",
          "max": "5",
          "histogram": [
           {
            "bin_start": 3,
            "bin_end": 3.2,
            "count": 2
           },
           {
            "bin_start": 3.2,
            "bin_end": 3.4,
            "count": 0
           },
           {
            "bin_start": 3.4,
            "bin_end": 3.6,
            "count": 0
           },
           {
            "bin_start": 3.6,
            "bin_end": 3.8,
            "count": 0
           },
           {
            "bin_start": 3.8,
            "bin_end": 4,
            "count": 0
           },
           {
            "bin_start": 4,
            "bin_end": 4.2,
            "count": 1
           },
           {
            "bin_start": 4.2,
            "bin_end": 4.4,
            "count": 0
           },
           {
            "bin_start": 4.4,
            "bin_end": 4.6,
            "count": 0
           },
           {
            "bin_start": 4.6,
            "bin_end": 4.8,
            "count": 0
           },
           {
            "bin_start": 4.8,
            "bin_end": 5,
            "count": 2
           }
          ]
         }
        },
        {
         "name": "Baggage handling",
         "dtype": "int64",
         "stats": {
          "unique_count": 2,
          "nan_count": 0,
          "min": "3",
          "max": "4",
          "histogram": [
           {
            "bin_start": 3,
            "bin_end": 3.1,
            "count": 2
           },
           {
            "bin_start": 3.1,
            "bin_end": 3.2,
            "count": 0
           },
           {
            "bin_start": 3.2,
            "bin_end": 3.3,
            "count": 0
           },
           {
            "bin_start": 3.3,
            "bin_end": 3.4,
            "count": 0
           },
           {
            "bin_start": 3.4,
            "bin_end": 3.5,
            "count": 0
           },
           {
            "bin_start": 3.5,
            "bin_end": 3.6,
            "count": 0
           },
           {
            "bin_start": 3.6,
            "bin_end": 3.7,
            "count": 0
           },
           {
            "bin_start": 3.7,
            "bin_end": 3.8,
            "count": 0
           },
           {
            "bin_start": 3.8,
            "bin_end": 3.9,
            "count": 0
           },
           {
            "bin_start": 3.9,
            "bin_end": 4,
            "count": 3
           }
          ]
         }
        },
        {
         "name": "Checkin service",
         "dtype": "int64",
         "stats": {
          "unique_count": 3,
          "nan_count": 0,
          "min": "1",
          "max": "4",
          "histogram": [
           {
            "bin_start": 1,
            "bin_end": 1.3,
            "count": 2
           },
           {
            "bin_start": 1.3,
            "bin_end": 1.6,
            "count": 0
           },
           {
            "bin_start": 1.6,
            "bin_end": 1.9,
            "count": 0
           },
           {
            "bin_start": 1.9,
            "bin_end": 2.2,
            "count": 0
           },
           {
            "bin_start": 2.2,
            "bin_end": 2.5,
            "count": 0
           },
           {
            "bin_start": 2.5,
            "bin_end": 2.8,
            "count": 0
           },
           {
            "bin_start": 2.8,
            "bin_end": 3.1,
            "count": 1
           },
           {
            "bin_start": 3.1,
            "bin_end": 3.4,
            "count": 0
           },
           {
            "bin_start": 3.4,
            "bin_end": 3.6999999999999997,
            "count": 0
           },
           {
            "bin_start": 3.6999999999999997,
            "bin_end": 4,
            "count": 2
           }
          ]
         }
        },
        {
         "name": "Inflight service",
         "dtype": "int64",
         "stats": {
          "unique_count": 3,
          "nan_count": 0,
          "min": "3",
          "max": "5",
          "histogram": [
           {
            "bin_start": 3,
            "bin_end": 3.2,
            "count": 1
           },
           {
            "bin_start": 3.2,
            "bin_end": 3.4,
            "count": 0
           },
           {
            "bin_start": 3.4,
            "bin_end": 3.6,
            "count": 0
           },
           {
            "bin_start": 3.6,
            "bin_end": 3.8,
            "count": 0
           },
           {
            "bin_start": 3.8,
            "bin_end": 4,
            "count": 0
           },
           {
            "bin_start": 4,
            "bin_end": 4.2,
            "count": 3
           },
           {
            "bin_start": 4.2,
            "bin_end": 4.4,
            "count": 0
           },
           {
            "bin_start": 4.4,
            "bin_end": 4.6,
            "count": 0
           },
           {
            "bin_start": 4.6,
            "bin_end": 4.8,
            "count": 0
           },
           {
            "bin_start": 4.8,
            "bin_end": 5,
            "count": 1
           }
          ]
         }
        },
        {
         "name": "Cleanliness",
         "dtype": "int64",
         "stats": {
          "unique_count": 4,
          "nan_count": 0,
          "min": "1",
          "max": "5",
          "histogram": [
           {
            "bin_start": 1,
            "bin_end": 1.4,
            "count": 1
           },
           {
            "bin_start": 1.4,
            "bin_end": 1.8,
            "count": 0
           },
           {
            "bin_start": 1.8,
            "bin_end": 2.2,
            "count": 1
           },
           {
            "bin_start": 2.2,
            "bin_end": 2.6,
            "count": 0
           },
           {
            "bin_start": 2.6,
            "bin_end": 3,
            "count": 0
           },
           {
            "bin_start": 3,
            "bin_end": 3.4000000000000004,
            "count": 1
           },
           {
            "bin_start": 3.4000000000000004,
            "bin_end": 3.8000000000000003,
            "count": 0
           },
           {
            "bin_start": 3.8000000000000003,
            "bin_end": 4.2,
            "count": 0
           },
           {
            "bin_start": 4.2,
            "bin_end": 4.6,
            "count": 0
           },
           {
            "bin_start": 4.6,
            "bin_end": 5,
            "count": 2
           }
          ]
         }
        },
        {
         "name": "Departure Delay in Minutes",
         "dtype": "int64",
         "stats": {
          "unique_count": 4,
          "nan_count": 0,
          "min": "0",
          "max": "25",
          "histogram": [
           {
            "bin_start": 0,
            "bin_end": 2.5,
            "count": 3
           },
           {
            "bin_start": 2.5,
            "bin_end": 5,
            "count": 0
           },
           {
            "bin_start": 5,
            "bin_end": 7.5,
            "count": 0
           },
           {
            "bin_start": 7.5,
            "bin_end": 10,
            "count": 0
           },
           {
            "bin_start": 10,
            "bin_end": 12.5,
            "count": 1
           },
           {
            "bin_start": 12.5,
            "bin_end": 15,
            "count": 0
           },
           {
            "bin_start": 15,
            "bin_end": 17.5,
            "count": 0
           },
           {
            "bin_start": 17.5,
            "bin_end": 20,
            "count": 0
           },
           {
            "bin_start": 20,
            "bin_end": 22.5,
            "count": 0
           },
           {
            "bin_start": 22.5,
            "bin_end": 25,
            "count": 1
           }
          ]
         }
        },
        {
         "name": "Arrival Delay in Minutes",
         "dtype": "float64",
         "stats": {
          "unique_count": 4,
          "nan_count": 0,
          "min": "0.0",
          "max": "18.0",
          "histogram": [
           {
            "bin_start": 0,
            "bin_end": 1.8,
            "count": 2
           },
           {
            "bin_start": 1.8,
            "bin_end": 3.6,
            "count": 0
           },
           {
            "bin_start": 3.6,
            "bin_end": 5.4,
            "count": 0
           },
           {
            "bin_start": 5.4,
            "bin_end": 7.2,
            "count": 1
           },
           {
            "bin_start": 7.2,
            "bin_end": 9,
            "count": 0
           },
           {
            "bin_start": 9,
            "bin_end": 10.8,
            "count": 1
           },
           {
            "bin_start": 10.8,
            "bin_end": 12.6,
            "count": 0
           },
           {
            "bin_start": 12.6,
            "bin_end": 14.4,
            "count": 0
           },
           {
            "bin_start": 14.4,
            "bin_end": 16.2,
            "count": 0
           },
           {
            "bin_start": 16.2,
            "bin_end": 18,
            "count": 1
           }
          ]
         }
        },
        {
         "name": "satisfaction",
         "dtype": "object",
         "stats": {
          "unique_count": 2,
          "nan_count": 0,
          "categories": [
           {
            "name": "neutral or dissatisfied",
            "count": 3
           },
           {
            "name": "satisfied",
            "count": 2
           }
          ]
         }
        },
        {
         "name": "_deepnote_index_column",
         "dtype": "int64"
        }
       ],
       "rows": [
        {
         "Unnamed: 0": 0,
         "id": 70172,
         "Gender": "Male",
         "Customer Type": "Loyal Customer",
         "Age": 13,
         "Type of Travel": "Personal Travel",
         "Class": "Eco Plus",
         "Flight Distance": 460,
         "Inflight wifi service": 3,
         "Departure/Arrival time convenient": 4,
         "Ease of Online booking": 3,
         "Gate location": 1,
         "Food and drink": 5,
         "Online boarding": 3,
         "Seat comfort": 5,
         "Inflight entertainment": 5,
         "On-board service": 4,
         "Leg room service": 3,
         "Baggage handling": 4,
         "Checkin service": 4,
         "Inflight service": 5,
         "Cleanliness": 5,
         "Departure Delay in Minutes": 25,
         "Arrival Delay in Minutes": 18,
         "satisfaction": "neutral or dissatisfied",
         "_deepnote_index_column": 0
        },
        {
         "Unnamed: 0": 1,
         "id": 5047,
         "Gender": "Male",
         "Customer Type": "disloyal Customer",
         "Age": 25,
         "Type of Travel": "Business travel",
         "Class": "Business",
         "Flight Distance": 235,
         "Inflight wifi service": 3,
         "Departure/Arrival time convenient": 2,
         "Ease of Online booking": 3,
         "Gate location": 3,
         "Food and drink": 1,
         "Online boarding": 3,
         "Seat comfort": 1,
         "Inflight entertainment": 1,
         "On-board service": 1,
         "Leg room service": 5,
         "Baggage handling": 3,
         "Checkin service": 1,
         "Inflight service": 4,
         "Cleanliness": 1,
         "Departure Delay in Minutes": 1,
         "Arrival Delay in Minutes": 6,
         "satisfaction": "neutral or dissatisfied",
         "_deepnote_index_column": 1
        },
        {
         "Unnamed: 0": 2,
         "id": 110028,
         "Gender": "Female",
         "Customer Type": "Loyal Customer",
         "Age": 26,
         "Type of Travel": "Business travel",
         "Class": "Business",
         "Flight Distance": 1142,
         "Inflight wifi service": 2,
         "Departure/Arrival time convenient": 2,
         "Ease of Online booking": 2,
         "Gate location": 2,
         "Food and drink": 5,
         "Online boarding": 5,
         "Seat comfort": 5,
         "Inflight entertainment": 5,
         "On-board service": 4,
         "Leg room service": 3,
         "Baggage handling": 4,
         "Checkin service": 4,
         "Inflight service": 4,
         "Cleanliness": 5,
         "Departure Delay in Minutes": 0,
         "Arrival Delay in Minutes": 0,
         "satisfaction": "satisfied",
         "_deepnote_index_column": 2
        },
        {
         "Unnamed: 0": 3,
         "id": 24026,
         "Gender": "Female",
         "Customer Type": "Loyal Customer",
         "Age": 25,
         "Type of Travel": "Business travel",
         "Class": "Business",
         "Flight Distance": 562,
         "Inflight wifi service": 2,
         "Departure/Arrival time convenient": 5,
         "Ease of Online booking": 5,
         "Gate location": 5,
         "Food and drink": 2,
         "Online boarding": 2,
         "Seat comfort": 2,
         "Inflight entertainment": 2,
         "On-board service": 2,
         "Leg room service": 5,
         "Baggage handling": 3,
         "Checkin service": 1,
         "Inflight service": 4,
         "Cleanliness": 2,
         "Departure Delay in Minutes": 11,
         "Arrival Delay in Minutes": 9,
         "satisfaction": "neutral or dissatisfied",
         "_deepnote_index_column": 3
        },
        {
         "Unnamed: 0": 4,
         "id": 119299,
         "Gender": "Male",
         "Customer Type": "Loyal Customer",
         "Age": 61,
         "Type of Travel": "Business travel",
         "Class": "Business",
         "Flight Distance": 214,
         "Inflight wifi service": 3,
         "Departure/Arrival time convenient": 3,
         "Ease of Online booking": 3,
         "Gate location": 3,
         "Food and drink": 4,
         "Online boarding": 5,
         "Seat comfort": 5,
         "Inflight entertainment": 3,
         "On-board service": 3,
         "Leg room service": 4,
         "Baggage handling": 4,
         "Checkin service": 3,
         "Inflight service": 3,
         "Cleanliness": 3,
         "Departure Delay in Minutes": 0,
         "Arrival Delay in Minutes": 0,
         "satisfaction": "satisfied",
         "_deepnote_index_column": 4
        }
       ]
      },
      "text/plain": "   Unnamed: 0      id  Gender      Customer Type  Age   Type of Travel  \\\n0           0   70172    Male     Loyal Customer   13  Personal Travel   \n1           1    5047    Male  disloyal Customer   25  Business travel   \n2           2  110028  Female     Loyal Customer   26  Business travel   \n3           3   24026  Female     Loyal Customer   25  Business travel   \n4           4  119299    Male     Loyal Customer   61  Business travel   \n\n      Class  Flight Distance  Inflight wifi service  \\\n0  Eco Plus              460                      3   \n1  Business              235                      3   \n2  Business             1142                      2   \n3  Business              562                      2   \n4  Business              214                      3   \n\n   Departure/Arrival time convenient  ...  Inflight entertainment  \\\n0                                  4  ...                       5   \n1                                  2  ...                       1   \n2                                  2  ...                       5   \n3                                  5  ...                       2   \n4                                  3  ...                       3   \n\n   On-board service  Leg room service  Baggage handling  Checkin service  \\\n0                 4                 3                 4                4   \n1                 1                 5                 3                1   \n2                 4                 3                 4                4   \n3                 2                 5                 3                1   \n4                 3                 4                 4                3   \n\n   Inflight service  Cleanliness  Departure Delay in Minutes  \\\n0                 5            5                          25   \n1                 4            1                           1   \n2                 4            5                           0   \n3                 4            2                          11   \n4                 3            3                           0   \n\n   Arrival Delay in Minutes             satisfaction  \n0                      18.0  neutral or dissatisfied  \n1                       6.0  neutral or dissatisfied  \n2                       0.0                satisfied  \n3                       9.0  neutral or dissatisfied  \n4                       0.0                satisfied  \n\n[5 rows x 25 columns]",
      "text/html": "<div>\n<style scoped>\n    .dataframe tbody tr th:only-of-type {\n        vertical-align: middle;\n    }\n\n    .dataframe tbody tr th {\n        vertical-align: top;\n    }\n\n    .dataframe thead th {\n        text-align: right;\n    }\n</style>\n<table border=\"1\" class=\"dataframe\">\n  <thead>\n    <tr style=\"text-align: right;\">\n      <th></th>\n      <th>Unnamed: 0</th>\n      <th>id</th>\n      <th>Gender</th>\n      <th>Customer Type</th>\n      <th>Age</th>\n      <th>Type of Travel</th>\n      <th>Class</th>\n      <th>Flight Distance</th>\n      <th>Inflight wifi service</th>\n      <th>Departure/Arrival time convenient</th>\n      <th>...</th>\n      <th>Inflight entertainment</th>\n      <th>On-board service</th>\n      <th>Leg room service</th>\n      <th>Baggage handling</th>\n      <th>Checkin service</th>\n      <th>Inflight service</th>\n      <th>Cleanliness</th>\n      <th>Departure Delay in Minutes</th>\n      <th>Arrival Delay in Minutes</th>\n      <th>satisfaction</th>\n    </tr>\n  </thead>\n  <tbody>\n    <tr>\n      <th>0</th>\n      <td>0</td>\n      <td>70172</td>\n      <td>Male</td>\n      <td>Loyal Customer</td>\n      <td>13</td>\n      <td>Personal Travel</td>\n      <td>Eco Plus</td>\n      <td>460</td>\n      <td>3</td>\n      <td>4</td>\n      <td>...</td>\n      <td>5</td>\n      <td>4</td>\n      <td>3</td>\n      <td>4</td>\n      <td>4</td>\n      <td>5</td>\n      <td>5</td>\n      <td>25</td>\n      <td>18.0</td>\n      <td>neutral or dissatisfied</td>\n    </tr>\n    <tr>\n      <th>1</th>\n      <td>1</td>\n      <td>5047</td>\n      <td>Male</td>\n      <td>disloyal Customer</td>\n      <td>25</td>\n      <td>Business travel</td>\n      <td>Business</td>\n      <td>235</td>\n      <td>3</td>\n      <td>2</td>\n      <td>...</td>\n      <td>1</td>\n      <td>1</td>\n      <td>5</td>\n      <td>3</td>\n      <td>1</td>\n      <td>4</td>\n      <td>1</td>\n      <td>1</td>\n      <td>6.0</td>\n      <td>neutral or dissatisfied</td>\n    </tr>\n    <tr>\n      <th>2</th>\n      <td>2</td>\n      <td>110028</td>\n      <td>Female</td>\n      <td>Loyal Customer</td>\n      <td>26</td>\n      <td>Business travel</td>\n      <td>Business</td>\n      <td>1142</td>\n      <td>2</td>\n      <td>2</td>\n      <td>...</td>\n      <td>5</td>\n      <td>4</td>\n      <td>3</td>\n      <td>4</td>\n      <td>4</td>\n      <td>4</td>\n      <td>5</td>\n      <td>0</td>\n      <td>0.0</td>\n      <td>satisfied</td>\n    </tr>\n    <tr>\n      <th>3</th>\n      <td>3</td>\n      <td>24026</td>\n      <td>Female</td>\n      <td>Loyal Customer</td>\n      <td>25</td>\n      <td>Business travel</td>\n      <td>Business</td>\n      <td>562</td>\n      <td>2</td>\n      <td>5</td>\n      <td>...</td>\n      <td>2</td>\n      <td>2</td>\n      <td>5</td>\n      <td>3</td>\n      <td>1</td>\n      <td>4</td>\n      <td>2</td>\n      <td>11</td>\n      <td>9.0</td>\n      <td>neutral or dissatisfied</td>\n    </tr>\n    <tr>\n      <th>4</th>\n      <td>4</td>\n      <td>119299</td>\n      <td>Male</td>\n      <td>Loyal Customer</td>\n      <td>61</td>\n      <td>Business travel</td>\n      <td>Business</td>\n      <td>214</td>\n      <td>3</td>\n      <td>3</td>\n      <td>...</td>\n      <td>3</td>\n      <td>3</td>\n      <td>4</td>\n      <td>4</td>\n      <td>3</td>\n      <td>3</td>\n      <td>3</td>\n      <td>0</td>\n      <td>0.0</td>\n      <td>satisfied</td>\n    </tr>\n  </tbody>\n</table>\n<p>5 rows × 25 columns</p>\n</div>"
     },
     "metadata": {}
    }
   ]
  },
  {
   "cell_type": "code",
   "metadata": {
    "cell_id": "00002-0cf0992d-5cc1-43ef-b808-64714f9cf89e",
    "deepnote_to_be_reexecuted": false,
    "source_hash": "b14206e2",
    "execution_start": 1657833480032,
    "execution_millis": 453,
    "deepnote_cell_type": "code",
    "deepnote_cell_height": 171
   },
   "source": "train_df.drop([\"Unnamed: 0\",\"id\"] , axis=1, inplace=True)\n\n# Importing function\n%run ./auxiliar_functions/varNorm.ipynb\n\ntrain_df = varNorm(train_df)",
   "execution_count": 3,
   "outputs": []
  },
  {
   "cell_type": "code",
   "metadata": {
    "cell_id": "00003-93dda5f0-08b4-49b2-9c94-9f2800d43502",
    "deepnote_to_be_reexecuted": false,
    "source_hash": "aa620045",
    "execution_start": 1657833480489,
    "execution_millis": 6,
    "deepnote_cell_type": "code",
    "deepnote_cell_height": 272
   },
   "source": "train_df.columns",
   "execution_count": 4,
   "outputs": [
    {
     "output_type": "execute_result",
     "execution_count": 4,
     "data": {
      "text/plain": "Index(['gender', 'customer_type', 'age', 'type_of_travel', 'class',\n       'flight_distance', 'inflight_wifi_service',\n       'departure/arrival_time_convenient', 'ease_of_online_booking',\n       'gate_location', 'food_and_drink', 'online_boarding', 'seat_comfort',\n       'inflight_entertainment', 'on_board_service', 'leg_room_service',\n       'baggage_handling', 'checkin_service', 'inflight_service',\n       'cleanliness', 'departure_delay_in_minutes', 'arrival_delay_in_minutes',\n       'satisfaction'],\n      dtype='object')"
     },
     "metadata": {}
    }
   ]
  },
  {
   "cell_type": "code",
   "metadata": {
    "cell_id": "00004-7687d7c0-31c1-475b-88a7-15d412976484",
    "deepnote_to_be_reexecuted": false,
    "source_hash": "928938fc",
    "execution_start": 1657833480526,
    "execution_millis": 19,
    "deepnote_cell_type": "code",
    "deepnote_cell_height": 668
   },
   "source": "train_df.info()",
   "execution_count": 5,
   "outputs": [
    {
     "name": "stdout",
     "text": "<class 'pandas.core.frame.DataFrame'>\nRangeIndex: 103904 entries, 0 to 103903\nData columns (total 23 columns):\n #   Column                             Non-Null Count   Dtype  \n---  ------                             --------------   -----  \n 0   gender                             103904 non-null  object \n 1   customer_type                      103904 non-null  object \n 2   age                                103904 non-null  int64  \n 3   type_of_travel                     103904 non-null  object \n 4   class                              103904 non-null  object \n 5   flight_distance                    103904 non-null  int64  \n 6   inflight_wifi_service              103904 non-null  int64  \n 7   departure/arrival_time_convenient  103904 non-null  int64  \n 8   ease_of_online_booking             103904 non-null  int64  \n 9   gate_location                      103904 non-null  int64  \n 10  food_and_drink                     103904 non-null  int64  \n 11  online_boarding                    103904 non-null  int64  \n 12  seat_comfort                       103904 non-null  int64  \n 13  inflight_entertainment             103904 non-null  int64  \n 14  on_board_service                   103904 non-null  int64  \n 15  leg_room_service                   103904 non-null  int64  \n 16  baggage_handling                   103904 non-null  int64  \n 17  checkin_service                    103904 non-null  int64  \n 18  inflight_service                   103904 non-null  int64  \n 19  cleanliness                        103904 non-null  int64  \n 20  departure_delay_in_minutes         103904 non-null  int64  \n 21  arrival_delay_in_minutes           103594 non-null  float64\n 22  satisfaction                       103904 non-null  object \ndtypes: float64(1), int64(17), object(5)\nmemory usage: 18.2+ MB\n",
     "output_type": "stream"
    }
   ]
  },
  {
   "cell_type": "code",
   "metadata": {
    "cell_id": "00006-fa9b59d4-44e0-4836-beaa-98e8360df830",
    "deepnote_to_be_reexecuted": false,
    "source_hash": "ac159ba0",
    "execution_start": 1657833480552,
    "execution_millis": 125,
    "deepnote_cell_type": "code",
    "deepnote_cell_height": 650
   },
   "source": "train_df.describe().T",
   "execution_count": 6,
   "outputs": [
    {
     "output_type": "execute_result",
     "execution_count": 6,
     "data": {
      "application/vnd.deepnote.dataframe.v3+json": {
       "column_count": 8,
       "row_count": 18,
       "columns": [
        {
         "name": "count",
         "dtype": "float64",
         "stats": {
          "unique_count": 2,
          "nan_count": 0,
          "min": "103594.0",
          "max": "103904.0",
          "histogram": [
           {
            "bin_start": 103594,
            "bin_end": 103625,
            "count": 1
           },
           {
            "bin_start": 103625,
            "bin_end": 103656,
            "count": 0
           },
           {
            "bin_start": 103656,
            "bin_end": 103687,
            "count": 0
           },
           {
            "bin_start": 103687,
            "bin_end": 103718,
            "count": 0
           },
           {
            "bin_start": 103718,
            "bin_end": 103749,
            "count": 0
           },
           {
            "bin_start": 103749,
            "bin_end": 103780,
            "count": 0
           },
           {
            "bin_start": 103780,
            "bin_end": 103811,
            "count": 0
           },
           {
            "bin_start": 103811,
            "bin_end": 103842,
            "count": 0
           },
           {
            "bin_start": 103842,
            "bin_end": 103873,
            "count": 0
           },
           {
            "bin_start": 103873,
            "bin_end": 103904,
            "count": 17
           }
          ]
         }
        },
        {
         "name": "mean",
         "dtype": "float64",
         "stats": {
          "unique_count": 18,
          "nan_count": 0,
          "min": "2.72968316907915",
          "max": "1189.4483754234677",
          "histogram": [
           {
            "bin_start": 2.72968316907915,
            "bin_end": 121.401552394518,
            "count": 17
           },
           {
            "bin_start": 121.401552394518,
            "bin_end": 240.07342161995686,
            "count": 0
           },
           {
            "bin_start": 240.07342161995686,
            "bin_end": 358.7452908453957,
            "count": 0
           },
           {
            "bin_start": 358.7452908453957,
            "bin_end": 477.41716007083454,
            "count": 0
           },
           {
            "bin_start": 477.41716007083454,
            "bin_end": 596.0890292962735,
            "count": 0
           },
           {
            "bin_start": 596.0890292962735,
            "bin_end": 714.7608985217123,
            "count": 0
           },
           {
            "bin_start": 714.7608985217123,
            "bin_end": 833.4327677471512,
            "count": 0
           },
           {
            "bin_start": 833.4327677471512,
            "bin_end": 952.10463697259,
            "count": 0
           },
           {
            "bin_start": 952.10463697259,
            "bin_end": 1070.776506198029,
            "count": 0
           },
           {
            "bin_start": 1070.776506198029,
            "bin_end": 1189.4483754234677,
            "count": 1
           }
          ]
         }
        },
        {
         "name": "std",
         "dtype": "float64",
         "stats": {
          "unique_count": 18,
          "nan_count": 0,
          "min": "1.1756630338758918",
          "max": "997.1472805289596",
          "histogram": [
           {
            "bin_start": 1.1756630338758918,
            "bin_end": 100.77282478338427,
            "count": 17
           },
           {
            "bin_start": 100.77282478338427,
            "bin_end": 200.36998653289263,
            "count": 0
           },
           {
            "bin_start": 200.36998653289263,
            "bin_end": 299.967148282401,
            "count": 0
           },
           {
            "bin_start": 299.967148282401,
            "bin_end": 399.5643100319094,
            "count": 0
           },
           {
            "bin_start": 399.5643100319094,
            "bin_end": 499.16147178141773,
            "count": 0
           },
           {
            "bin_start": 499.16147178141773,
            "bin_end": 598.7586335309262,
            "count": 0
           },
           {
            "bin_start": 598.7586335309262,
            "bin_end": 698.3557952804346,
            "count": 0
           },
           {
            "bin_start": 698.3557952804346,
            "bin_end": 797.9529570299429,
            "count": 0
           },
           {
            "bin_start": 797.9529570299429,
            "bin_end": 897.5501187794513,
            "count": 0
           },
           {
            "bin_start": 897.5501187794513,
            "bin_end": 997.1472805289596,
            "count": 1
           }
          ]
         }
        },
        {
         "name": "min",
         "dtype": "float64",
         "stats": {
          "unique_count": 4,
          "nan_count": 0,
          "min": "0.0",
          "max": "31.0",
          "histogram": [
           {
            "bin_start": 0,
            "bin_end": 3.1,
            "count": 16
           },
           {
            "bin_start": 3.1,
            "bin_end": 6.2,
            "count": 0
           },
           {
            "bin_start": 6.2,
            "bin_end": 9.3,
            "count": 1
           },
           {
            "bin_start": 9.3,
            "bin_end": 12.4,
            "count": 0
           },
           {
            "bin_start": 12.4,
            "bin_end": 15.5,
            "count": 0
           },
           {
            "bin_start": 15.5,
            "bin_end": 18.6,
            "count": 0
           },
           {
            "bin_start": 18.6,
            "bin_end": 21.7,
            "count": 0
           },
           {
            "bin_start": 21.7,
            "bin_end": 24.8,
            "count": 0
           },
           {
            "bin_start": 24.8,
            "bin_end": 27.900000000000002,
            "count": 0
           },
           {
            "bin_start": 27.900000000000002,
            "bin_end": 31,
            "count": 1
           }
          ]
         }
        },
        {
         "name": "25%",
         "dtype": "float64",
         "stats": {
          "unique_count": 5,
          "nan_count": 0,
          "min": "0.0",
          "max": "414.0",
          "histogram": [
           {
            "bin_start": 0,
            "bin_end": 41.4,
            "count": 17
           },
           {
            "bin_start": 41.4,
            "bin_end": 82.8,
            "count": 0
           },
           {
            "bin_start": 82.8,
            "bin_end": 124.19999999999999,
            "count": 0
           },
           {
            "bin_start": 124.19999999999999,
            "bin_end": 165.6,
            "count": 0
           },
           {
            "bin_start": 165.6,
            "bin_end": 207,
            "count": 0
           },
           {
            "bin_start": 207,
            "bin_end": 248.39999999999998,
            "count": 0
           },
           {
            "bin_start": 248.39999999999998,
            "bin_end": 289.8,
            "count": 0
           },
           {
            "bin_start": 289.8,
            "bin_end": 331.2,
            "count": 0
           },
           {
            "bin_start": 331.2,
            "bin_end": 372.59999999999997,
            "count": 0
           },
           {
            "bin_start": 372.59999999999997,
            "bin_end": 414,
            "count": 1
           }
          ]
         }
        },
        {
         "name": "50%",
         "dtype": "float64",
         "stats": {
          "unique_count": 5,
          "nan_count": 0,
          "min": "0.0",
          "max": "843.0",
          "histogram": [
           {
            "bin_start": 0,
            "bin_end": 84.3,
            "count": 17
           },
           {
            "bin_start": 84.3,
            "bin_end": 168.6,
            "count": 0
           },
           {
            "bin_start": 168.6,
            "bin_end": 252.89999999999998,
            "count": 0
           },
           {
            "bin_start": 252.89999999999998,
            "bin_end": 337.2,
            "count": 0
           },
           {
            "bin_start": 337.2,
            "bin_end": 421.5,
            "count": 0
           },
           {
            "bin_start": 421.5,
            "bin_end": 505.79999999999995,
            "count": 0
           },
           {
            "bin_start": 505.79999999999995,
            "bin_end": 590.1,
            "count": 0
           },
           {
            "bin_start": 590.1,
            "bin_end": 674.4,
            "count": 0
           },
           {
            "bin_start": 674.4,
            "bin_end": 758.6999999999999,
            "count": 0
           },
           {
            "bin_start": 758.6999999999999,
            "bin_end": 843,
            "count": 1
           }
          ]
         }
        },
        {
         "name": "75%",
         "dtype": "float64",
         "stats": {
          "unique_count": 6,
          "nan_count": 0,
          "min": "4.0",
          "max": "1743.0",
          "histogram": [
           {
            "bin_start": 4,
            "bin_end": 177.9,
            "count": 17
           },
           {
            "bin_start": 177.9,
            "bin_end": 351.8,
            "count": 0
           },
           {
            "bin_start": 351.8,
            "bin_end": 525.7,
            "count": 0
           },
           {
            "bin_start": 525.7,
            "bin_end": 699.6,
            "count": 0
           },
           {
            "bin_start": 699.6,
            "bin_end": 873.5,
            "count": 0
           },
           {
            "bin_start": 873.5,
            "bin_end": 1047.4,
            "count": 0
           },
           {
            "bin_start": 1047.4,
            "bin_end": 1221.3,
            "count": 0
           },
           {
            "bin_start": 1221.3,
            "bin_end": 1395.2,
            "count": 0
           },
           {
            "bin_start": 1395.2,
            "bin_end": 1569.1000000000001,
            "count": 0
           },
           {
            "bin_start": 1569.1000000000001,
            "bin_end": 1743,
            "count": 1
           }
          ]
         }
        },
        {
         "name": "max",
         "dtype": "float64",
         "stats": {
          "unique_count": 5,
          "nan_count": 0,
          "min": "5.0",
          "max": "4983.0",
          "histogram": [
           {
            "bin_start": 5,
            "bin_end": 502.8,
            "count": 15
           },
           {
            "bin_start": 502.8,
            "bin_end": 1000.6,
            "count": 0
           },
           {
            "bin_start": 1000.6,
            "bin_end": 1498.4,
            "count": 0
           },
           {
            "bin_start": 1498.4,
            "bin_end": 1996.2,
            "count": 2
           },
           {
            "bin_start": 1996.2,
            "bin_end": 2494,
            "count": 0
           },
           {
            "bin_start": 2494,
            "bin_end": 2991.8,
            "count": 0
           },
           {
            "bin_start": 2991.8,
            "bin_end": 3489.6,
            "count": 0
           },
           {
            "bin_start": 3489.6,
            "bin_end": 3987.4,
            "count": 0
           },
           {
            "bin_start": 3987.4,
            "bin_end": 4485.2,
            "count": 0
           },
           {
            "bin_start": 4485.2,
            "bin_end": 4983,
            "count": 1
           }
          ]
         }
        },
        {
         "name": "_deepnote_index_column",
         "dtype": "object"
        }
       ],
       "rows": [
        {
         "count": 103904,
         "mean": 39.379706267323684,
         "std": 15.114963699737824,
         "min": 7,
         "25%": 27,
         "50%": 40,
         "75%": 51,
         "max": 85,
         "_deepnote_index_column": "age"
        },
        {
         "count": 103904,
         "mean": 1189.4483754234677,
         "std": 997.1472805289596,
         "min": 31,
         "25%": 414,
         "50%": 843,
         "75%": 1743,
         "max": 4983,
         "_deepnote_index_column": "flight_distance"
        },
        {
         "count": 103904,
         "mean": 2.72968316907915,
         "std": 1.327829471236222,
         "min": 0,
         "25%": 2,
         "50%": 3,
         "75%": 4,
         "max": 5,
         "_deepnote_index_column": "inflight_wifi_service"
        },
        {
         "count": 103904,
         "mean": 3.06029604250077,
         "std": 1.5250751972834675,
         "min": 0,
         "25%": 2,
         "50%": 3,
         "75%": 4,
         "max": 5,
         "_deepnote_index_column": "departure/arrival_time_convenient"
        },
        {
         "count": 103904,
         "mean": 2.7569006005543577,
         "std": 1.398929472659161,
         "min": 0,
         "25%": 2,
         "50%": 3,
         "75%": 4,
         "max": 5,
         "_deepnote_index_column": "ease_of_online_booking"
        },
        {
         "count": 103904,
         "mean": 2.9768825069294733,
         "std": 1.277621010300239,
         "min": 0,
         "25%": 2,
         "50%": 3,
         "75%": 4,
         "max": 5,
         "_deepnote_index_column": "gate_location"
        },
        {
         "count": 103904,
         "mean": 3.2021288882044963,
         "std": 1.329532710858209,
         "min": 0,
         "25%": 2,
         "50%": 3,
         "75%": 4,
         "max": 5,
         "_deepnote_index_column": "food_and_drink"
        },
        {
         "count": 103904,
         "mean": 3.250375346473668,
         "std": 1.3495089537133296,
         "min": 0,
         "25%": 2,
         "50%": 3,
         "75%": 4,
         "max": 5,
         "_deepnote_index_column": "online_boarding"
        },
        {
         "count": 103904,
         "mean": 3.4393959809054513,
         "std": 1.3190875186173407,
         "min": 0,
         "25%": 2,
         "50%": 4,
         "75%": 5,
         "max": 5,
         "_deepnote_index_column": "seat_comfort"
        },
        {
         "count": 103904,
         "mean": 3.358157530027718,
         "std": 1.3329907146271214,
         "min": 0,
         "25%": 2,
         "50%": 4,
         "75%": 4,
         "max": 5,
         "_deepnote_index_column": "inflight_entertainment"
        }
       ]
      },
      "text/plain": "                                      count         mean         std   min  \\\nage                                103904.0    39.379706   15.114964   7.0   \nflight_distance                    103904.0  1189.448375  997.147281  31.0   \ninflight_wifi_service              103904.0     2.729683    1.327829   0.0   \ndeparture/arrival_time_convenient  103904.0     3.060296    1.525075   0.0   \nease_of_online_booking             103904.0     2.756901    1.398929   0.0   \ngate_location                      103904.0     2.976883    1.277621   0.0   \nfood_and_drink                     103904.0     3.202129    1.329533   0.0   \nonline_boarding                    103904.0     3.250375    1.349509   0.0   \nseat_comfort                       103904.0     3.439396    1.319088   0.0   \ninflight_entertainment             103904.0     3.358158    1.332991   0.0   \non_board_service                   103904.0     3.382363    1.288354   0.0   \nleg_room_service                   103904.0     3.351055    1.315605   0.0   \nbaggage_handling                   103904.0     3.631833    1.180903   1.0   \ncheckin_service                    103904.0     3.304290    1.265396   0.0   \ninflight_service                   103904.0     3.640428    1.175663   0.0   \ncleanliness                        103904.0     3.286351    1.312273   0.0   \ndeparture_delay_in_minutes         103904.0    14.815618   38.230901   0.0   \narrival_delay_in_minutes           103594.0    15.178678   38.698682   0.0   \n\n                                     25%    50%     75%     max  \nage                                 27.0   40.0    51.0    85.0  \nflight_distance                    414.0  843.0  1743.0  4983.0  \ninflight_wifi_service                2.0    3.0     4.0     5.0  \ndeparture/arrival_time_convenient    2.0    3.0     4.0     5.0  \nease_of_online_booking               2.0    3.0     4.0     5.0  \ngate_location                        2.0    3.0     4.0     5.0  \nfood_and_drink                       2.0    3.0     4.0     5.0  \nonline_boarding                      2.0    3.0     4.0     5.0  \nseat_comfort                         2.0    4.0     5.0     5.0  \ninflight_entertainment               2.0    4.0     4.0     5.0  \non_board_service                     2.0    4.0     4.0     5.0  \nleg_room_service                     2.0    4.0     4.0     5.0  \nbaggage_handling                     3.0    4.0     5.0     5.0  \ncheckin_service                      3.0    3.0     4.0     5.0  \ninflight_service                     3.0    4.0     5.0     5.0  \ncleanliness                          2.0    3.0     4.0     5.0  \ndeparture_delay_in_minutes           0.0    0.0    12.0  1592.0  \narrival_delay_in_minutes             0.0    0.0    13.0  1584.0  ",
      "text/html": "<div>\n<style scoped>\n    .dataframe tbody tr th:only-of-type {\n        vertical-align: middle;\n    }\n\n    .dataframe tbody tr th {\n        vertical-align: top;\n    }\n\n    .dataframe thead th {\n        text-align: right;\n    }\n</style>\n<table border=\"1\" class=\"dataframe\">\n  <thead>\n    <tr style=\"text-align: right;\">\n      <th></th>\n      <th>count</th>\n      <th>mean</th>\n      <th>std</th>\n      <th>min</th>\n      <th>25%</th>\n      <th>50%</th>\n      <th>75%</th>\n      <th>max</th>\n    </tr>\n  </thead>\n  <tbody>\n    <tr>\n      <th>age</th>\n      <td>103904.0</td>\n      <td>39.379706</td>\n      <td>15.114964</td>\n      <td>7.0</td>\n      <td>27.0</td>\n      <td>40.0</td>\n      <td>51.0</td>\n      <td>85.0</td>\n    </tr>\n    <tr>\n      <th>flight_distance</th>\n      <td>103904.0</td>\n      <td>1189.448375</td>\n      <td>997.147281</td>\n      <td>31.0</td>\n      <td>414.0</td>\n      <td>843.0</td>\n      <td>1743.0</td>\n      <td>4983.0</td>\n    </tr>\n    <tr>\n      <th>inflight_wifi_service</th>\n      <td>103904.0</td>\n      <td>2.729683</td>\n      <td>1.327829</td>\n      <td>0.0</td>\n      <td>2.0</td>\n      <td>3.0</td>\n      <td>4.0</td>\n      <td>5.0</td>\n    </tr>\n    <tr>\n      <th>departure/arrival_time_convenient</th>\n      <td>103904.0</td>\n      <td>3.060296</td>\n      <td>1.525075</td>\n      <td>0.0</td>\n      <td>2.0</td>\n      <td>3.0</td>\n      <td>4.0</td>\n      <td>5.0</td>\n    </tr>\n    <tr>\n      <th>ease_of_online_booking</th>\n      <td>103904.0</td>\n      <td>2.756901</td>\n      <td>1.398929</td>\n      <td>0.0</td>\n      <td>2.0</td>\n      <td>3.0</td>\n      <td>4.0</td>\n      <td>5.0</td>\n    </tr>\n    <tr>\n      <th>gate_location</th>\n      <td>103904.0</td>\n      <td>2.976883</td>\n      <td>1.277621</td>\n      <td>0.0</td>\n      <td>2.0</td>\n      <td>3.0</td>\n      <td>4.0</td>\n      <td>5.0</td>\n    </tr>\n    <tr>\n      <th>food_and_drink</th>\n      <td>103904.0</td>\n      <td>3.202129</td>\n      <td>1.329533</td>\n      <td>0.0</td>\n      <td>2.0</td>\n      <td>3.0</td>\n      <td>4.0</td>\n      <td>5.0</td>\n    </tr>\n    <tr>\n      <th>online_boarding</th>\n      <td>103904.0</td>\n      <td>3.250375</td>\n      <td>1.349509</td>\n      <td>0.0</td>\n      <td>2.0</td>\n      <td>3.0</td>\n      <td>4.0</td>\n      <td>5.0</td>\n    </tr>\n    <tr>\n      <th>seat_comfort</th>\n      <td>103904.0</td>\n      <td>3.439396</td>\n      <td>1.319088</td>\n      <td>0.0</td>\n      <td>2.0</td>\n      <td>4.0</td>\n      <td>5.0</td>\n      <td>5.0</td>\n    </tr>\n    <tr>\n      <th>inflight_entertainment</th>\n      <td>103904.0</td>\n      <td>3.358158</td>\n      <td>1.332991</td>\n      <td>0.0</td>\n      <td>2.0</td>\n      <td>4.0</td>\n      <td>4.0</td>\n      <td>5.0</td>\n    </tr>\n    <tr>\n      <th>on_board_service</th>\n      <td>103904.0</td>\n      <td>3.382363</td>\n      <td>1.288354</td>\n      <td>0.0</td>\n      <td>2.0</td>\n      <td>4.0</td>\n      <td>4.0</td>\n      <td>5.0</td>\n    </tr>\n    <tr>\n      <th>leg_room_service</th>\n      <td>103904.0</td>\n      <td>3.351055</td>\n      <td>1.315605</td>\n      <td>0.0</td>\n      <td>2.0</td>\n      <td>4.0</td>\n      <td>4.0</td>\n      <td>5.0</td>\n    </tr>\n    <tr>\n      <th>baggage_handling</th>\n      <td>103904.0</td>\n      <td>3.631833</td>\n      <td>1.180903</td>\n      <td>1.0</td>\n      <td>3.0</td>\n      <td>4.0</td>\n      <td>5.0</td>\n      <td>5.0</td>\n    </tr>\n    <tr>\n      <th>checkin_service</th>\n      <td>103904.0</td>\n      <td>3.304290</td>\n      <td>1.265396</td>\n      <td>0.0</td>\n      <td>3.0</td>\n      <td>3.0</td>\n      <td>4.0</td>\n      <td>5.0</td>\n    </tr>\n    <tr>\n      <th>inflight_service</th>\n      <td>103904.0</td>\n      <td>3.640428</td>\n      <td>1.175663</td>\n      <td>0.0</td>\n      <td>3.0</td>\n      <td>4.0</td>\n      <td>5.0</td>\n      <td>5.0</td>\n    </tr>\n    <tr>\n      <th>cleanliness</th>\n      <td>103904.0</td>\n      <td>3.286351</td>\n      <td>1.312273</td>\n      <td>0.0</td>\n      <td>2.0</td>\n      <td>3.0</td>\n      <td>4.0</td>\n      <td>5.0</td>\n    </tr>\n    <tr>\n      <th>departure_delay_in_minutes</th>\n      <td>103904.0</td>\n      <td>14.815618</td>\n      <td>38.230901</td>\n      <td>0.0</td>\n      <td>0.0</td>\n      <td>0.0</td>\n      <td>12.0</td>\n      <td>1592.0</td>\n    </tr>\n    <tr>\n      <th>arrival_delay_in_minutes</th>\n      <td>103594.0</td>\n      <td>15.178678</td>\n      <td>38.698682</td>\n      <td>0.0</td>\n      <td>0.0</td>\n      <td>0.0</td>\n      <td>13.0</td>\n      <td>1584.0</td>\n    </tr>\n  </tbody>\n</table>\n</div>"
     },
     "metadata": {}
    }
   ]
  },
  {
   "cell_type": "code",
   "metadata": {
    "cell_id": "00007-72a19a8d-7705-43d8-84f4-712db5c8819a",
    "deepnote_to_be_reexecuted": false,
    "source_hash": "8a8ded08",
    "execution_start": 1657833480683,
    "execution_millis": 136,
    "deepnote_cell_type": "code",
    "deepnote_cell_height": 773
   },
   "source": "for col in train_df.columns:\n    if train_df[col].nunique() <= 10:\n        print(\"{}:\".format(col))\n        print(train_df[col].unique())\n        print(\"=\"*48)",
   "execution_count": 7,
   "outputs": [
    {
     "name": "stdout",
     "text": "gender:\n['male' 'female']\n================================================\ncustomer_type:\n['loyal_customer' 'disloyal_customer']\n================================================\ntype_of_travel:\n['personal_travel' 'business_travel']\n================================================\nclass:\n['eco_plus' 'business' 'eco']\n================================================\ninflight_wifi_service:\n[3 2 4 1 5 0]\n================================================\ndeparture/arrival_time_convenient:\n[4 2 5 3 1 0]\n================================================\nease_of_online_booking:\n[3 2 5 4 1 0]\n================================================\ngate_location:\n[1 3 2 5 4 0]\n================================================\nfood_and_drink:\n[5 1 2 4 3 0]\n================================================\nonline_boarding:\n[3 5 2 1 4 0]\n================================================\nseat_comfort:\n[5 1 2 3 4 0]\n================================================\ninflight_entertainment:\n[5 1 2 3 4 0]\n================================================\non_board_service:\n[4 1 2 3 5 0]\n================================================\nleg_room_service:\n[3 5 4 2 1 0]\n================================================\nbaggage_handling:\n[4 3 5 1 2]\n================================================\ncheckin_service:\n[4 1 3 5 2 0]\n================================================\ninflight_service:\n[5 4 3 1 2 0]\n================================================\ncleanliness:\n[5 1 2 3 4 0]\n================================================\nsatisfaction:\n['neutral_or_dissatisfied' 'satisfied']\n================================================\n",
     "output_type": "stream"
    }
   ]
  },
  {
   "cell_type": "code",
   "metadata": {
    "cell_id": "00008-49fbf973-91da-40d3-ae88-506b367466f4",
    "deepnote_to_be_reexecuted": false,
    "source_hash": "fa61ecc6",
    "execution_start": 1657833480833,
    "execution_millis": 232,
    "deepnote_cell_type": "code",
    "deepnote_cell_height": 398
   },
   "source": "# Target variable\nsns.countplot(x=train_df.satisfaction)\nplt.show()",
   "execution_count": 8,
   "outputs": [
    {
     "data": {
      "text/plain": "<Figure size 432x288 with 1 Axes>",
      "image/png": "[encoded data removed]"
     },
     "metadata": {
      "needs_background": "light",
      "image/png": {
       "width": 401,
       "height": 263
      }
     },
     "output_type": "display_data"
    }
   ]
  },
  {
   "cell_type": "code",
   "metadata": {
    "cell_id": "00009-5a62bda0-c7eb-42ef-8f22-a8b00d4999c0",
    "deepnote_to_be_reexecuted": false,
    "source_hash": "79d33b2a",
    "execution_start": 1657833481109,
    "execution_millis": 13051,
    "deepnote_cell_type": "code",
    "deepnote_cell_height": 503
   },
   "source": "# Importing function\n%run ./auxiliar_functions/distribution_plot.ipynb\n\ndistribution_plot(train_df)",
   "execution_count": 9,
   "outputs": [
    {
     "data": {
      "text/plain": "<Figure size 1080x432 with 6 Axes>",
      "image/png": "[encoded data removed]"
     },
     "metadata": {
      "needs_background": "light",
      "image/png": {
       "width": 1072,
       "height": 426
      }
     },
     "output_type": "display_data"
    }
   ]
  },
  {
   "cell_type": "markdown",
   "source": "## Modeling",
   "metadata": {
    "cell_id": "21436cc3342945df8bee022bd62feae3",
    "tags": [],
    "is_collapsed": false,
    "formattedRanges": [],
    "deepnote_cell_type": "text-cell-h2"
   }
  },
  {
   "cell_type": "code",
   "metadata": {
    "cell_id": "00010-78f03d85-b397-4c6f-a708-71d754cb5582",
    "deepnote_to_be_reexecuted": false,
    "source_hash": "9cdd6581",
    "execution_start": 1657833494183,
    "execution_millis": 266,
    "owner_user_id": "f579454d-9b43-4f49-be2a-585951cb1da4",
    "deepnote_cell_type": "code",
    "deepnote_cell_height": 495
   },
   "source": "cat_vars = ['gender','customer_type','type_of_travel','class'] # Categorical features\nfloat_vars = ['age','flight_distance','departure_delay_in_minutes','arrival_delay_in_minutes'] # Floating features\nint_vars = list(train_df.select_dtypes(exclude=\"object\").columns)\nint_vars = [var for var in int_vars if var not in float_vars] # Integer Features\n\nle = LabelEncoder() # Target labeler\ny_train = le.fit_transform(train_df.satisfaction)\n\n# Categorical transformer\ncat_transformer = Pipeline([\n    (\"cat_transformer\", OneHotEncoder())])\n\n# Numerical transformer\nnum_transformer = Pipeline([\n    (\"int_transformer\", OrdinalEncoder())])\n\n# Full pipeline transformer\nfull_pipeline = ColumnTransformer(transformers=[\n    ('cat_trans', cat_transformer, cat_vars),\n    ('num_trans', num_transformer, int_vars)\n],remainder='drop')\n\n# Transforming training set\nX_train_prepared = full_pipeline.fit_transform(train_df)",
   "execution_count": 10,
   "outputs": []
  },
  {
   "cell_type": "code",
   "metadata": {
    "cell_id": "00011-af4a9d4a-bd2c-495d-b88f-161757013d98",
    "deepnote_to_be_reexecuted": false,
    "source_hash": "64ff42fc",
    "execution_start": 1657833494456,
    "execution_millis": 310787,
    "deepnote_cell_type": "code",
    "deepnote_cell_height": 745
   },
   "source": "# Searching for the best model\n# ===================================================================================\n\nmodels = {'SVC': SVC(), \n          'Logistic': LogisticRegression(),\n          'Random Forest': RandomForestClassifier()\n         }\n\nn_models = len(models)\nscores=[]\n\nfor name, model in models.items():\n    y_train_pred = cross_val_predict(model, X_train_prepared, y_train, cv=3, n_jobs=-1)\n    # Metrics score\n    accuracy = np.mean(accuracy_score(y_train, y_train_pred)).round(2)\n    precision = np.mean(precision_score(y_train, y_train_pred)).round(2)\n    recall = np.mean(recall_score(y_train, y_train_pred)).round(2)\n    f1 = np.mean(f1_score(y_train, y_train_pred)).round(2)\n\n    model_scores = np.array([name, accuracy, precision, recall, f1])\n    scores.append(np.array(model_scores))\n          \nscores_df = pd.DataFrame(scores, columns=['Model','Accuracy','Precision','Recall','F1'])\nscores_df.set_index('Model', inplace=True)\nscores_df.sort_values(by='F1', ascending=False)",
   "execution_count": 11,
   "outputs": [
    {
     "output_type": "execute_result",
     "execution_count": 11,
     "data": {
      "application/vnd.deepnote.dataframe.v3+json": {
       "column_count": 4,
       "row_count": 3,
       "columns": [
        {
         "name": "Accuracy",
         "dtype": "object",
         "stats": {
          "unique_count": 3,
          "nan_count": 0,
          "categories": [
           {
            "name": "0.96",
            "count": 1
           },
           {
            "name": "0.94",
            "count": 1
           },
           {
            "name": "0.87",
            "count": 1
           }
          ]
         }
        },
        {
         "name": "Precision",
         "dtype": "object",
         "stats": {
          "unique_count": 3,
          "nan_count": 0,
          "categories": [
           {
            "name": "0.97",
            "count": 1
           },
           {
            "name": "0.95",
            "count": 1
           },
           {
            "name": "0.87",
            "count": 1
           }
          ]
         }
        },
        {
         "name": "Recall",
         "dtype": "object",
         "stats": {
          "unique_count": 3,
          "nan_count": 0,
          "categories": [
           {
            "name": "0.94",
            "count": 1
           },
           {
            "name": "0.92",
            "count": 1
           },
           {
            "name": "0.84",
            "count": 1
           }
          ]
         }
        },
        {
         "name": "F1",
         "dtype": "object",
         "stats": {
          "unique_count": 3,
          "nan_count": 0,
          "categories": [
           {
            "name": "0.95",
            "count": 1
           },
           {
            "name": "0.93",
            "count": 1
           },
           {
            "name": "0.85",
            "count": 1
           }
          ]
         }
        },
        {
         "name": "_deepnote_index_column",
         "dtype": "object"
        }
       ],
       "rows": [
        {
         "Accuracy": "0.96",
         "Precision": "0.97",
         "Recall": "0.94",
         "F1": "0.95",
         "_deepnote_index_column": "Random Forest"
        },
        {
         "Accuracy": "0.94",
         "Precision": "0.95",
         "Recall": "0.92",
         "F1": "0.93",
         "_deepnote_index_column": "SVC"
        },
        {
         "Accuracy": "0.87",
         "Precision": "0.87",
         "Recall": "0.84",
         "F1": "0.85",
         "_deepnote_index_column": "Logistic"
        }
       ]
      },
      "text/plain": "              Accuracy Precision Recall    F1\nModel                                        \nRandom Forest     0.96      0.97   0.94  0.95\nSVC               0.94      0.95   0.92  0.93\nLogistic          0.87      0.87   0.84  0.85",
      "text/html": "<div>\n<style scoped>\n    .dataframe tbody tr th:only-of-type {\n        vertical-align: middle;\n    }\n\n    .dataframe tbody tr th {\n        vertical-align: top;\n    }\n\n    .dataframe thead th {\n        text-align: right;\n    }\n</style>\n<table border=\"1\" class=\"dataframe\">\n  <thead>\n    <tr style=\"text-align: right;\">\n      <th></th>\n      <th>Accuracy</th>\n      <th>Precision</th>\n      <th>Recall</th>\n      <th>F1</th>\n    </tr>\n    <tr>\n      <th>Model</th>\n      <th></th>\n      <th></th>\n      <th></th>\n      <th></th>\n    </tr>\n  </thead>\n  <tbody>\n    <tr>\n      <th>Random Forest</th>\n      <td>0.96</td>\n      <td>0.97</td>\n      <td>0.94</td>\n      <td>0.95</td>\n    </tr>\n    <tr>\n      <th>SVC</th>\n      <td>0.94</td>\n      <td>0.95</td>\n      <td>0.92</td>\n      <td>0.93</td>\n    </tr>\n    <tr>\n      <th>Logistic</th>\n      <td>0.87</td>\n      <td>0.87</td>\n      <td>0.84</td>\n      <td>0.85</td>\n    </tr>\n  </tbody>\n</table>\n</div>"
     },
     "metadata": {}
    }
   ]
  },
  {
   "cell_type": "code",
   "metadata": {
    "scrolled": true,
    "cell_id": "00012-aa4192dd-bc58-46d2-8b8f-c6a11393f002",
    "deepnote_to_be_reexecuted": false,
    "source_hash": "1075ae8",
    "execution_start": 1657833805242,
    "execution_millis": 30766,
    "deepnote_cell_type": "code",
    "deepnote_cell_height": 651.2000122070312
   },
   "source": "# Creating training model\nrforest_clf = RandomForestClassifier(random_state=42)\n\n# \ny_pred = cross_val_predict(rforest_clf, X_train_prepared, y_train)\n\n# Classification Report & Confusion Matrix\n# ==============================================================================\nprint(\"Classification Report\")\nprint(\"=\"*64)\nprint(confusion_matrix(y_train, y_pred))\nprint()\nprint(\"Classification Report\")\nprint(\"=\"*64)\nprint(classification_report(y_train, y_pred))",
   "execution_count": 12,
   "outputs": [
    {
     "name": "stdout",
     "text": "Classification Report\n================================================================\n[[57521  1358]\n [ 2829 42196]]\n\nClassification Report\n================================================================\n              precision    recall  f1-score   support\n\n           0       0.95      0.98      0.96     58879\n           1       0.97      0.94      0.95     45025\n\n    accuracy                           0.96    103904\n   macro avg       0.96      0.96      0.96    103904\nweighted avg       0.96      0.96      0.96    103904\n\n",
     "output_type": "stream"
    }
   ]
  },
  {
   "cell_type": "code",
   "metadata": {
    "scrolled": false,
    "cell_id": "00013-cacd46be-ea85-4cdb-bbbd-e823989df17e",
    "deepnote_to_be_reexecuted": false,
    "source_hash": "aaee419f",
    "execution_start": 1657833836049,
    "execution_millis": 31432,
    "deepnote_cell_type": "code",
    "deepnote_cell_height": 737
   },
   "source": "# Receiver Operating Characteristic Curve\n# ================================================================================\ny_probas = cross_val_predict(rforest_clf, X_train_prepared, y_train, \n                             cv=5, method='predict_proba', n_jobs=-1)\n\ny_scores = y_probas[:,1]\nthreshold = 0.5\ny_with_thres = (y_scores > threshold)\n\nfpr, tpr, thresholds = roc_curve(y_train, y_with_thres)\n\ndef plot_roc_curve(fpr, tpr):\n    plt.plot(fpr, tpr)\n    plt.plot([0, 1], [0,1], 'k--')\n    plt.axis([0, 1, 0, 1])\n    plt.title('ROC Curve')\n    plt.xlabel('False Positive Rate')\n    plt.ylabel('True Positive Rate')\n    \nplot_roc_curve(fpr, tpr)\nplt.show()",
   "execution_count": 13,
   "outputs": [
    {
     "data": {
      "text/plain": "<Figure size 432x288 with 1 Axes>",
      "image/png": "[encoded data removed]"
     },
     "metadata": {
      "needs_background": "light",
      "image/png": {
       "width": 394,
       "height": 278
      }
     },
     "output_type": "display_data"
    }
   ]
  },
  {
   "cell_type": "code",
   "metadata": {
    "cell_id": "00016-364e8eeb-8408-4565-aae4-7175eaa4bdd4",
    "deepnote_to_be_reexecuted": false,
    "source_hash": "b560030a",
    "execution_start": 1657833867469,
    "execution_millis": 13,
    "deepnote_cell_type": "code"
   },
   "source": "# Area Under Curve Score\nAUC = roc_auc_score(y_train, y_with_thres)\nprint(\"=\"*18)\nprint(\"AUC Score: {}\".format(AUC.round(2)))\nprint(\"=\"*18)",
   "execution_count": 14,
   "outputs": [
    {
     "name": "stdout",
     "text": "==================\nAUC Score: 0.96\n==================\n",
     "output_type": "stream"
    }
   ]
  },
  {
   "cell_type": "code",
   "source": "# Metrics performance score\ntrainPrecisionScore = precision_score(y_train, y_with_thres) # Precision Score\ntrainRecallScore= recall_score(y_train, y_with_thres) # Recall Score\n\nprint(\"Metrics Performance Scores:\")\nprint(\"=\"*30)\nprint(\"Precision Score: {}\".format(trainPrecisionScore.round(2)))\nprint(\"Recall Score: {}\".format(trainRecallScore.round(2)))",
   "metadata": {
    "cell_id": "240622866228430f91a8a2c55f3bf0b8",
    "tags": [],
    "deepnote_to_be_reexecuted": false,
    "source_hash": "b7ad8e16",
    "execution_start": 1657833867470,
    "execution_millis": 57,
    "deepnote_cell_type": "code"
   },
   "outputs": [
    {
     "name": "stdout",
     "text": "Metrics Performance Scores:\n==============================\nPrecision Score: 0.97\nRecall Score: 0.94\n",
     "output_type": "stream"
    }
   ],
   "execution_count": 15
  },
  {
   "cell_type": "code",
   "metadata": {
    "cell_id": "00017-293564f7-b2af-46a1-8560-2133ce668be7",
    "deepnote_to_be_reexecuted": false,
    "source_hash": "543fe2d7",
    "execution_start": 1657833867527,
    "execution_millis": 7114,
    "deepnote_cell_type": "code"
   },
   "source": "# Creating final model\nfinal_model = RandomForestClassifier(random_state=0)\n\n# Training the final model\nfinal_model.fit(X_train_prepared, y_train)",
   "execution_count": 16,
   "outputs": [
    {
     "output_type": "execute_result",
     "execution_count": 16,
     "data": {
      "text/plain": "RandomForestClassifier(random_state=0)",
      "text/html": "<style>#sk-container-id-1 {color: black;background-color: white;}#sk-container-id-1 pre{padding: 0;}#sk-container-id-1 div.sk-toggleable {background-color: white;}#sk-container-id-1 label.sk-toggleable__label {cursor: pointer;display: block;width: 100%;margin-bottom: 0;padding: 0.3em;box-sizing: border-box;text-align: center;}#sk-container-id-1 label.sk-toggleable__label-arrow:before {content: \"▸\";float: left;margin-right: 0.25em;color: #696969;}#sk-container-id-1 label.sk-toggleable__label-arrow:hover:before {color: black;}#sk-container-id-1 div.sk-estimator:hover label.sk-toggleable__label-arrow:before {color: black;}#sk-container-id-1 div.sk-toggleable__content {max-height: 0;max-width: 0;overflow: hidden;text-align: left;background-color: #f0f8ff;}#sk-container-id-1 div.sk-toggleable__content pre {margin: 0.2em;color: black;border-radius: 0.25em;background-color: #f0f8ff;}#sk-container-id-1 input.sk-toggleable__control:checked~div.sk-toggleable__content {max-height: 200px;max-width: 100%;overflow: auto;}#sk-container-id-1 input.sk-toggleable__control:checked~label.sk-toggleable__label-arrow:before {content: \"▾\";}#sk-container-id-1 div.sk-estimator input.sk-toggleable__control:checked~label.sk-toggleable__label {background-color: #d4ebff;}#sk-container-id-1 div.sk-label input.sk-toggleable__control:checked~label.sk-toggleable__label {background-color: #d4ebff;}#sk-container-id-1 input.sk-hidden--visually {border: 0;clip: rect(1px 1px 1px 1px);clip: rect(1px, 1px, 1px, 1px);height: 1px;margin: -1px;overflow: hidden;padding: 0;position: absolute;width: 1px;}#sk-container-id-1 div.sk-estimator {font-family: monospace;background-color: #f0f8ff;border: 1px dotted black;border-radius: 0.25em;box-sizing: border-box;margin-bottom: 0.5em;}#sk-container-id-1 div.sk-estimator:hover {background-color: #d4ebff;}#sk-container-id-1 div.sk-parallel-item::after {content: \"\";width: 100%;border-bottom: 1px solid gray;flex-grow: 1;}#sk-container-id-1 div.sk-label:hover label.sk-toggleable__label {background-color: #d4ebff;}#sk-container-id-1 div.sk-serial::before {content: \"\";position: absolute;border-left: 1px solid gray;box-sizing: border-box;top: 0;bottom: 0;left: 50%;z-index: 0;}#sk-container-id-1 div.sk-serial {display: flex;flex-direction: column;align-items: center;background-color: white;padding-right: 0.2em;padding-left: 0.2em;position: relative;}#sk-container-id-1 div.sk-item {position: relative;z-index: 1;}#sk-container-id-1 div.sk-parallel {display: flex;align-items: stretch;justify-content: center;background-color: white;position: relative;}#sk-container-id-1 div.sk-item::before, #sk-container-id-1 div.sk-parallel-item::before {content: \"\";position: absolute;border-left: 1px solid gray;box-sizing: border-box;top: 0;bottom: 0;left: 50%;z-index: -1;}#sk-container-id-1 div.sk-parallel-item {display: flex;flex-direction: column;z-index: 1;position: relative;background-color: white;}#sk-container-id-1 div.sk-parallel-item:first-child::after {align-self: flex-end;width: 50%;}#sk-container-id-1 div.sk-parallel-item:last-child::after {align-self: flex-start;width: 50%;}#sk-container-id-1 div.sk-parallel-item:only-child::after {width: 0;}#sk-container-id-1 div.sk-dashed-wrapped {border: 1px dashed gray;margin: 0 0.4em 0.5em 0.4em;box-sizing: border-box;padding-bottom: 0.4em;background-color: white;}#sk-container-id-1 div.sk-label label {font-family: monospace;font-weight: bold;display: inline-block;line-height: 1.2em;}#sk-container-id-1 div.sk-label-container {text-align: center;}#sk-container-id-1 div.sk-container {/* jupyter's `normalize.less` sets `[hidden] { display: none; }` but bootstrap.min.css set `[hidden] { display: none !important; }` so we also need the `!important` here to be able to override the default hidden behavior on the sphinx rendered scikit-learn.org. See: https://github.com/scikit-learn/scikit-learn/issues/21755 */display: inline-block !important;position: relative;}#sk-container-id-1 div.sk-text-repr-fallback {display: none;}</style><div id=\"sk-container-id-1\" class=\"sk-top-container\"><div class=\"sk-text-repr-fallback\"><pre>RandomForestClassifier(random_state=0)</pre><b>In a Jupyter environment, please rerun this cell to show the HTML representation or trust the notebook. <br />On GitHub, the HTML representation is unable to render, please try loading this page with nbviewer.org.</b></div><div class=\"sk-container\" hidden><div class=\"sk-item\"><div class=\"sk-estimator sk-toggleable\"><input class=\"sk-toggleable__control sk-hidden--visually\" id=\"sk-estimator-id-1\" type=\"checkbox\" checked><label for=\"sk-estimator-id-1\" class=\"sk-toggleable__label sk-toggleable__label-arrow\">RandomForestClassifier</label><div class=\"sk-toggleable__content\"><pre>RandomForestClassifier(random_state=0)</pre></div></div></div></div></div>"
     },
     "metadata": {}
    }
   ]
  },
  {
   "cell_type": "code",
   "metadata": {
    "cell_id": "00018-cd433bbe-e0ff-492a-955f-d192919e4a1c",
    "deepnote_to_be_reexecuted": false,
    "source_hash": "21b0ac6f",
    "execution_start": 1657833874636,
    "execution_millis": 671,
    "deepnote_cell_type": "code"
   },
   "source": "# Importing test set\ntest_df = pd.read_csv('datasets/test.csv')\n# Applying changes to variables and categorical values\ntest_df = varNorm(test_df)\n\n\nX_test = test_df\ny_test = test_df.pop('satisfaction')\n\n# Applying transformations to test set\nX_test_prepared = full_pipeline.transform(X_test)\ny_test = le.transform(y_test)\n\n# Final Predictions\npredictions = final_model.predict(X_test_prepared)",
   "execution_count": 17,
   "outputs": []
  },
  {
   "cell_type": "code",
   "source": "print(classification_report(predictions, y_test))\n\n# Metrics performance score\ntestPrecisionScore = precision_score(predictions, y_test) # Precision Score\ntestRecallScore= recall_score(predictions, y_test) # Recall Score\n\nprint(\"Metrics Performance Scores:\")\nprint(\"=\"*42)\nprint(\"Precision Score: {}\".format(testPrecisionScore.round(2)))\nprint(\"Recall Score: {}\".format(testRecallScore.round(2)))",
   "metadata": {
    "cell_id": "7f41f19c6e30424f8441bf1a8db035fc",
    "tags": [],
    "deepnote_to_be_reexecuted": false,
    "source_hash": "7f6f7721",
    "execution_start": 1657833875310,
    "execution_millis": 358,
    "deepnote_cell_type": "code"
   },
   "outputs": [
    {
     "name": "stdout",
     "text": "              precision    recall  f1-score   support\n\n           0       0.97      0.96      0.96     14876\n           1       0.94      0.97      0.95     11100\n\n    accuracy                           0.96     25976\n   macro avg       0.96      0.96      0.96     25976\nweighted avg       0.96      0.96      0.96     25976\n\nMetrics Performance Scores:\n==========================================\nPrecision Score: 0.94\nRecall Score: 0.97\n",
     "output_type": "stream"
    }
   ],
   "execution_count": 18
  },
  {
   "cell_type": "markdown",
   "source": "<a style='text-decoration:none;line-height:16px;display:flex;color:#5B5B62;padding:10px;justify-content:end;' href='https://deepnote.com?utm_source=created-in-deepnote-cell&projectId=0d84b419-eb5c-4c7b-a299-559e37d00acb' target=\"_blank\">\n<img alt='Created in deepnote.com' style='display:inline;max-height:16px;margin:0px;margin-right:7.5px;' src='data:image/svg+xml;base64,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' > </img>\nCreated in <span style='font-weight:600;margin-left:4px;'>Deepnote</span></a>",
   "metadata": {
    "tags": [],
    "created_in_deepnote_cell": true,
    "deepnote_cell_type": "markdown"
   }
  }
 ],
 "nbformat": 4,
 "nbformat_minor": 5,
 "metadata": {
  "kernelspec": {
   "display_name": "Python 3 (ipykernel)",
   "language": "python",
   "name": "python3"
  },
  "language_info": {
   "codemirror_mode": {
    "name": "ipython",
    "version": 3
   },
   "file_extension": ".py",
   "mimetype": "text/x-python",
   "name": "python",
   "nbconvert_exporter": "python",
   "pygments_lexer": "ipython3",
   "version": "3.8.8"
  },
  "deepnote_notebook_id": "e1ef905f-0054-4182-bced-a50089c51b3d",
  "deepnote": {},
  "deepnote_execution_queue": []
 }
}